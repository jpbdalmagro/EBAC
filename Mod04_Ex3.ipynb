{
 "cells": [
  {
   "cell_type": "markdown",
   "metadata": {},
   "source": [
    "# Tarefa 03\n",
    "\n",
    "- Leia os enunciados com atenção\n",
    "- Saiba que pode haver mais de uma resposta correta\n",
    "- Insira novas células de código sempre que achar necessário\n",
    "- Em caso de dúvidas, procure os Tutores\n",
    "- Divirta-se :)"
   ]
  },
  {
   "cell_type": "code",
   "execution_count": 2,
   "metadata": {},
   "outputs": [],
   "source": [
    "import pandas as pd\n",
    "import requests"
   ]
  },
  {
   "cell_type": "markdown",
   "metadata": {},
   "source": [
    "####  1) Lendo de APIs\n",
    "Vimos em aula como carregar dados públicos do governo através de um API (*Application Programming Interface*). No exemplo de aula, baixamos os dados de pedidos de verificação de limites (PVL) realizados por estados, e selecionamos apenas aqueles referentes ao estado de São Paulo.\n",
    "\n",
    "1. Repita os mesmos passos feitos em aula, mas selecione os PVLs realizados por municípios no estado do Rio de Janeiro.\n",
    "2. Quais são os três *status* das solicitações mais frequentes na base? Quais são suas frequências?\n",
    "3. Construa uma nova variável que contenha o ano do **status**. Observe que ```data_status``` vem como tipo *object* no **DataFrame**. Dica: você pode usar o método ```.str``` para transformar o tipo da variável em string, em seguida um método como [**slice()**](https://pandas.pydata.org/docs/reference/api/pandas.Series.str.slice.html) ou [**split()**](https://pandas.pydata.org/pandas-docs/stable/reference/api/pandas.Series.str.split.html).\n",
    "4. Indique a frequência de cada ano do campo construído no item (3)."
   ]
  },
  {
   "cell_type": "code",
   "execution_count": 3,
   "metadata": {},
   "outputs": [
    {
     "data": {
      "text/plain": [
       "200"
      ]
     },
     "execution_count": 3,
     "metadata": {},
     "output_type": "execute_result"
    }
   ],
   "source": [
    "# 1) Seu código aqui\n",
    "url = 'https://apidatalake.tesouro.gov.br/ords/sadipem/tt/pvl'\n",
    "r = requests.get(url)\n",
    "r.status_code\n"
   ]
  },
  {
   "cell_type": "code",
   "execution_count": 4,
   "metadata": {},
   "outputs": [
    {
     "data": {
      "text/html": [
       "<div>\n",
       "<style scoped>\n",
       "    .dataframe tbody tr th:only-of-type {\n",
       "        vertical-align: middle;\n",
       "    }\n",
       "\n",
       "    .dataframe tbody tr th {\n",
       "        vertical-align: top;\n",
       "    }\n",
       "\n",
       "    .dataframe thead th {\n",
       "        text-align: right;\n",
       "    }\n",
       "</style>\n",
       "<table border=\"1\" class=\"dataframe\">\n",
       "  <thead>\n",
       "    <tr style=\"text-align: right;\">\n",
       "      <th></th>\n",
       "      <th>id_pleito</th>\n",
       "      <th>tipo_interessado</th>\n",
       "      <th>interessado</th>\n",
       "      <th>cod_ibge</th>\n",
       "      <th>uf</th>\n",
       "      <th>num_pvl</th>\n",
       "      <th>status</th>\n",
       "      <th>num_processo</th>\n",
       "      <th>data_protocolo</th>\n",
       "      <th>tipo_operacao</th>\n",
       "      <th>finalidade</th>\n",
       "      <th>tipo_credor</th>\n",
       "      <th>credor</th>\n",
       "      <th>moeda</th>\n",
       "      <th>valor</th>\n",
       "      <th>pvl_assoc_divida</th>\n",
       "      <th>pvl_contradado_credor</th>\n",
       "      <th>data_status</th>\n",
       "    </tr>\n",
       "  </thead>\n",
       "  <tbody>\n",
       "    <tr>\n",
       "      <th>110</th>\n",
       "      <td>13594</td>\n",
       "      <td>Município</td>\n",
       "      <td>Rio de Janeiro</td>\n",
       "      <td>3304557</td>\n",
       "      <td>RJ</td>\n",
       "      <td>None</td>\n",
       "      <td>Arquivado</td>\n",
       "      <td>19405.000032/2006-84</td>\n",
       "      <td>2006-07-20T03:00:00Z</td>\n",
       "      <td>Operação contratual interna</td>\n",
       "      <td>Saneamento básico</td>\n",
       "      <td>Instituição Financeira Nacional</td>\n",
       "      <td>Caixa Econômica Federal</td>\n",
       "      <td>Real</td>\n",
       "      <td>1.914638e+07</td>\n",
       "      <td>0</td>\n",
       "      <td>0</td>\n",
       "      <td>26/06/2007</td>\n",
       "    </tr>\n",
       "    <tr>\n",
       "      <th>133</th>\n",
       "      <td>12747</td>\n",
       "      <td>Município</td>\n",
       "      <td>Niterói</td>\n",
       "      <td>3303302</td>\n",
       "      <td>RJ</td>\n",
       "      <td>None</td>\n",
       "      <td>Encaminhado à PGFN com manifestação técnica fa...</td>\n",
       "      <td>17944.001779/2006-27</td>\n",
       "      <td>2013-12-04T02:00:00Z</td>\n",
       "      <td>Operação contratual externa (com garantia da U...</td>\n",
       "      <td>Multissetorial</td>\n",
       "      <td>Instituição Financeira Internacional</td>\n",
       "      <td>Banco Interamericano de Desenvolvimento</td>\n",
       "      <td>Dólar dos EUA</td>\n",
       "      <td>2.647000e+07</td>\n",
       "      <td>1</td>\n",
       "      <td>0</td>\n",
       "      <td>19/12/2013</td>\n",
       "    </tr>\n",
       "    <tr>\n",
       "      <th>137</th>\n",
       "      <td>13677</td>\n",
       "      <td>Município</td>\n",
       "      <td>Barra Mansa</td>\n",
       "      <td>3300407</td>\n",
       "      <td>RJ</td>\n",
       "      <td>None</td>\n",
       "      <td>Deferido</td>\n",
       "      <td>19405.000049/2005-51</td>\n",
       "      <td>2006-05-05T03:00:00Z</td>\n",
       "      <td>Operação contratual interna</td>\n",
       "      <td>PMAT</td>\n",
       "      <td>Instituição Financeira Nacional</td>\n",
       "      <td>Banco Nacional de Desenvolvimento Econômico e ...</td>\n",
       "      <td>Real</td>\n",
       "      <td>2.669010e+06</td>\n",
       "      <td>0</td>\n",
       "      <td>0</td>\n",
       "      <td>15/05/2006</td>\n",
       "    </tr>\n",
       "    <tr>\n",
       "      <th>156</th>\n",
       "      <td>13690</td>\n",
       "      <td>Município</td>\n",
       "      <td>Rio de Janeiro</td>\n",
       "      <td>3304557</td>\n",
       "      <td>RJ</td>\n",
       "      <td>None</td>\n",
       "      <td>Arquivado</td>\n",
       "      <td>19405.000052/2003-11</td>\n",
       "      <td>2005-05-01T03:00:00Z</td>\n",
       "      <td>Operação contratual externa (com garantia da U...</td>\n",
       "      <td>Multissetorial</td>\n",
       "      <td>Instituição Financeira Internacional</td>\n",
       "      <td>Banco Internacional para Reconstrução e Desenv...</td>\n",
       "      <td>Dólar dos EUA</td>\n",
       "      <td>1.779240e+08</td>\n",
       "      <td>0</td>\n",
       "      <td>0</td>\n",
       "      <td>17/08/2006</td>\n",
       "    </tr>\n",
       "    <tr>\n",
       "      <th>453</th>\n",
       "      <td>42252</td>\n",
       "      <td>Município</td>\n",
       "      <td>Itatiaia</td>\n",
       "      <td>3302254</td>\n",
       "      <td>RJ</td>\n",
       "      <td>PVL02.000042/2020-82</td>\n",
       "      <td>Encaminhado à PGFN com manifestação técnica fa...</td>\n",
       "      <td>17944.101489/2020-31</td>\n",
       "      <td>2020-05-19T13:29:59Z</td>\n",
       "      <td>Operação contratual interna (com garantia da U...</td>\n",
       "      <td>Infraestrutura</td>\n",
       "      <td>Instituição Financeira Nacional</td>\n",
       "      <td>Banco do Brasil S/A</td>\n",
       "      <td>Real</td>\n",
       "      <td>3.000000e+07</td>\n",
       "      <td>1</td>\n",
       "      <td>1</td>\n",
       "      <td>21/05/2020</td>\n",
       "    </tr>\n",
       "  </tbody>\n",
       "</table>\n",
       "</div>"
      ],
      "text/plain": [
       "     id_pleito tipo_interessado     interessado  cod_ibge  uf  \\\n",
       "110      13594        Município  Rio de Janeiro   3304557  RJ   \n",
       "133      12747        Município         Niterói   3303302  RJ   \n",
       "137      13677        Município     Barra Mansa   3300407  RJ   \n",
       "156      13690        Município  Rio de Janeiro   3304557  RJ   \n",
       "453      42252        Município        Itatiaia   3302254  RJ   \n",
       "\n",
       "                  num_pvl                                             status  \\\n",
       "110                  None                                          Arquivado   \n",
       "133                  None  Encaminhado à PGFN com manifestação técnica fa...   \n",
       "137                  None                                           Deferido   \n",
       "156                  None                                          Arquivado   \n",
       "453  PVL02.000042/2020-82  Encaminhado à PGFN com manifestação técnica fa...   \n",
       "\n",
       "             num_processo        data_protocolo  \\\n",
       "110  19405.000032/2006-84  2006-07-20T03:00:00Z   \n",
       "133  17944.001779/2006-27  2013-12-04T02:00:00Z   \n",
       "137  19405.000049/2005-51  2006-05-05T03:00:00Z   \n",
       "156  19405.000052/2003-11  2005-05-01T03:00:00Z   \n",
       "453  17944.101489/2020-31  2020-05-19T13:29:59Z   \n",
       "\n",
       "                                         tipo_operacao         finalidade  \\\n",
       "110                        Operação contratual interna  Saneamento básico   \n",
       "133  Operação contratual externa (com garantia da U...     Multissetorial   \n",
       "137                        Operação contratual interna               PMAT   \n",
       "156  Operação contratual externa (com garantia da U...     Multissetorial   \n",
       "453  Operação contratual interna (com garantia da U...     Infraestrutura   \n",
       "\n",
       "                              tipo_credor  \\\n",
       "110       Instituição Financeira Nacional   \n",
       "133  Instituição Financeira Internacional   \n",
       "137       Instituição Financeira Nacional   \n",
       "156  Instituição Financeira Internacional   \n",
       "453       Instituição Financeira Nacional   \n",
       "\n",
       "                                                credor          moeda  \\\n",
       "110                            Caixa Econômica Federal           Real   \n",
       "133            Banco Interamericano de Desenvolvimento  Dólar dos EUA   \n",
       "137  Banco Nacional de Desenvolvimento Econômico e ...           Real   \n",
       "156  Banco Internacional para Reconstrução e Desenv...  Dólar dos EUA   \n",
       "453                                Banco do Brasil S/A           Real   \n",
       "\n",
       "            valor  pvl_assoc_divida  pvl_contradado_credor data_status  \n",
       "110  1.914638e+07                 0                      0  26/06/2007  \n",
       "133  2.647000e+07                 1                      0  19/12/2013  \n",
       "137  2.669010e+06                 0                      0  15/05/2006  \n",
       "156  1.779240e+08                 0                      0  17/08/2006  \n",
       "453  3.000000e+07                 1                      1  21/05/2020  "
      ]
     },
     "execution_count": 4,
     "metadata": {},
     "output_type": "execute_result"
    }
   ],
   "source": [
    "data = r.json()\n",
    "df = pd.DataFrame(data['items'])\n",
    "df_rj = df[(df['uf'] == 'RJ') &\n",
    "           (df['tipo_interessado'] == 'Município')]\n",
    "df_rj.head()"
   ]
  },
  {
   "cell_type": "code",
   "execution_count": 5,
   "metadata": {},
   "outputs": [
    {
     "name": "stdout",
     "output_type": "stream",
     "text": [
      "status\n",
      "Deferido        29\n",
      "Regularizado    10\n",
      "Arquivado        9\n",
      "Name: count, dtype: int64\n"
     ]
    }
   ],
   "source": [
    "# 2) Seu código aqui\n",
    "status = df_rj['status'].value_counts()\n",
    "print(status[:3])"
   ]
  },
  {
   "cell_type": "code",
   "execution_count": 6,
   "metadata": {},
   "outputs": [
    {
     "name": "stderr",
     "output_type": "stream",
     "text": [
      "C:\\Users\\jpbda\\AppData\\Local\\Temp\\ipykernel_13808\\1337915019.py:2: SettingWithCopyWarning: \n",
      "A value is trying to be set on a copy of a slice from a DataFrame.\n",
      "Try using .loc[row_indexer,col_indexer] = value instead\n",
      "\n",
      "See the caveats in the documentation: https://pandas.pydata.org/pandas-docs/stable/user_guide/indexing.html#returning-a-view-versus-a-copy\n",
      "  df_rj['data_status'] = df_rj['data_status'].astype(str)\n",
      "C:\\Users\\jpbda\\AppData\\Local\\Temp\\ipykernel_13808\\1337915019.py:3: SettingWithCopyWarning: \n",
      "A value is trying to be set on a copy of a slice from a DataFrame.\n",
      "Try using .loc[row_indexer,col_indexer] = value instead\n",
      "\n",
      "See the caveats in the documentation: https://pandas.pydata.org/pandas-docs/stable/user_guide/indexing.html#returning-a-view-versus-a-copy\n",
      "  df_rj['ano_status'] = df_rj['data_status'].str.slice(-4)\n"
     ]
    },
    {
     "data": {
      "text/plain": [
       "110    2007\n",
       "133    2013\n",
       "137    2006\n",
       "156    2006\n",
       "453    2020\n",
       "Name: ano_status, dtype: object"
      ]
     },
     "execution_count": 6,
     "metadata": {},
     "output_type": "execute_result"
    }
   ],
   "source": [
    "# 3) Seu código aqui\n",
    "df_rj['data_status'] = df_rj['data_status'].astype(str)\n",
    "df_rj['ano_status'] = df_rj['data_status'].str.slice(-4)\n",
    "df_rj['ano_status'].head()"
   ]
  },
  {
   "cell_type": "code",
   "execution_count": 7,
   "metadata": {},
   "outputs": [
    {
     "data": {
      "text/plain": [
       "ano_status\n",
       "2007    12\n",
       "2023     9\n",
       "2020     6\n",
       "2008     6\n",
       "2019     4\n",
       "2012     3\n",
       "2006     3\n",
       "2002     3\n",
       "2014     3\n",
       "2013     3\n",
       "2011     3\n",
       "2016     2\n",
       "2017     2\n",
       "2010     2\n",
       "2021     2\n",
       "2015     1\n",
       "2018     1\n",
       "2009     1\n",
       "2022     1\n",
       "Name: count, dtype: int64"
      ]
     },
     "execution_count": 7,
     "metadata": {},
     "output_type": "execute_result"
    }
   ],
   "source": [
    "df_rj['ano_status'].value_counts()"
   ]
  },
  {
   "cell_type": "markdown",
   "metadata": {},
   "source": [
    "####  2) Melhorando a interação com o API\n",
    "Observe dois URLs de consultas diferentes, por exemplo o URL utilizado em aula, e o URL feito no exercício anterior. Compare-os e observe as diferenças.\n",
    "\n",
    "1. Faça uma função em Python que recebe como argumento o UF da consulta e o tipo de interessado (```'Estado'```ou ```Município```), e que devolve os dados da consulta no formato *DataFrame*.\n",
    "2. Quantas solicitações para o Estado podem ser consultadas para Minas Gerais com *status* em 'Arquivado por decurso de prazo' estão registradas?\n",
    "3. Qual é o município da Bahia com mais solicitações deferidas?\n",
    "4. Salve um arquivo .csv com os dados de solicitações da Bahia, com interessado = 'Estado'"
   ]
  },
  {
   "cell_type": "code",
   "execution_count": 8,
   "metadata": {},
   "outputs": [],
   "source": [
    "#1) Seu código aqui\n",
    "def filtro_uf_tipo_interessado(uf, tipo_interessado):\n",
    "    uf = uf.upper()\n",
    "    tipo_interessado = tipo_interessado.capitalize()\n",
    "    df_filtro = df[(df['uf'] == uf) &\n",
    "                (df['tipo_interessado'] == tipo_interessado)]\n",
    "    \n",
    "    return df_filtro\n"
   ]
  },
  {
   "cell_type": "code",
   "execution_count": 9,
   "metadata": {},
   "outputs": [],
   "source": [
    "# 2) Seu código aqui\n",
    "uf = 'MG'\n",
    "tipo_interessado = 'Estado'\n",
    "\n",
    "df_filtro = filtro_uf_tipo_interessado(uf, tipo_interessado)\n",
    "df_arquivado = df_filtro[df_filtro['status'] == 'Arquivado por descurso de prazo']"
   ]
  },
  {
   "cell_type": "code",
   "execution_count": 10,
   "metadata": {},
   "outputs": [
    {
     "data": {
      "text/html": [
       "<div>\n",
       "<style scoped>\n",
       "    .dataframe tbody tr th:only-of-type {\n",
       "        vertical-align: middle;\n",
       "    }\n",
       "\n",
       "    .dataframe tbody tr th {\n",
       "        vertical-align: top;\n",
       "    }\n",
       "\n",
       "    .dataframe thead th {\n",
       "        text-align: right;\n",
       "    }\n",
       "</style>\n",
       "<table border=\"1\" class=\"dataframe\">\n",
       "  <thead>\n",
       "    <tr style=\"text-align: right;\">\n",
       "      <th></th>\n",
       "      <th>id_pleito</th>\n",
       "      <th>tipo_interessado</th>\n",
       "      <th>interessado</th>\n",
       "      <th>cod_ibge</th>\n",
       "      <th>uf</th>\n",
       "      <th>num_pvl</th>\n",
       "      <th>status</th>\n",
       "      <th>num_processo</th>\n",
       "      <th>data_protocolo</th>\n",
       "      <th>tipo_operacao</th>\n",
       "      <th>finalidade</th>\n",
       "      <th>tipo_credor</th>\n",
       "      <th>credor</th>\n",
       "      <th>moeda</th>\n",
       "      <th>valor</th>\n",
       "      <th>pvl_assoc_divida</th>\n",
       "      <th>pvl_contradado_credor</th>\n",
       "      <th>data_status</th>\n",
       "    </tr>\n",
       "  </thead>\n",
       "  <tbody>\n",
       "  </tbody>\n",
       "</table>\n",
       "</div>"
      ],
      "text/plain": [
       "Empty DataFrame\n",
       "Columns: [id_pleito, tipo_interessado, interessado, cod_ibge, uf, num_pvl, status, num_processo, data_protocolo, tipo_operacao, finalidade, tipo_credor, credor, moeda, valor, pvl_assoc_divida, pvl_contradado_credor, data_status]\n",
       "Index: []"
      ]
     },
     "execution_count": 10,
     "metadata": {},
     "output_type": "execute_result"
    }
   ],
   "source": [
    "df[(df['uf'] == 'MG') & (df['tipo_interessado'] == 'Estado') & (df['status'] == 'Arquivado por descurso de prazo')]\n",
    "\n",
    "#Não existe nenhum item que atenda a essas condições"
   ]
  },
  {
   "cell_type": "code",
   "execution_count": 11,
   "metadata": {},
   "outputs": [
    {
     "data": {
      "text/plain": [
       "interessado\n",
       "Bom Jesus da Lapa         4\n",
       "Barreiras                 4\n",
       "Luís Eduardo Magalhães    3\n",
       "América Dourada           3\n",
       "Feira de Santana          3\n",
       "                         ..\n",
       "Abaíra                    1\n",
       "Salvador                  1\n",
       "Santa Maria da Vitória    1\n",
       "São Félix                 1\n",
       "Ubaíra                    1\n",
       "Name: count, Length: 137, dtype: int64"
      ]
     },
     "execution_count": 11,
     "metadata": {},
     "output_type": "execute_result"
    }
   ],
   "source": [
    "# 3) Seu código aqui\n",
    "df_filtro = filtro_uf_tipo_interessado('ba', 'municíPio')\n",
    "df_filtro['interessado'].value_counts()"
   ]
  },
  {
   "cell_type": "code",
   "execution_count": 12,
   "metadata": {},
   "outputs": [],
   "source": [
    "# 4) Seu código aqui\n",
    "df_filtro = filtro_uf_tipo_interessado('ba', 'estado')\n",
    "df_filtro.to_csv('ba_estado.csv')"
   ]
  },
  {
   "cell_type": "code",
   "execution_count": null,
   "metadata": {},
   "outputs": [],
   "source": []
  },
  {
   "cell_type": "code",
   "execution_count": null,
   "metadata": {},
   "outputs": [],
   "source": []
  }
 ],
 "metadata": {
  "kernelspec": {
   "display_name": "Python 3",
   "language": "python",
   "name": "python3"
  },
  "language_info": {
   "codemirror_mode": {
    "name": "ipython",
    "version": 3
   },
   "file_extension": ".py",
   "mimetype": "text/x-python",
   "name": "python",
   "nbconvert_exporter": "python",
   "pygments_lexer": "ipython3",
   "version": "3.12.4"
  }
 },
 "nbformat": 4,
 "nbformat_minor": 4
}
